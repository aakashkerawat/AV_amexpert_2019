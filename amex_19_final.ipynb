{
 "cells": [
  {
   "cell_type": "code",
   "execution_count": 1,
   "metadata": {
    "scrolled": false
   },
   "outputs": [
    {
     "name": "stderr",
     "output_type": "stream",
     "text": [
      "/anaconda3/lib/python3.7/site-packages/lightgbm/__init__.py:46: UserWarning: Starting from version 2.2.1, the library file in distribution wheels for macOS is built by the Apple Clang (Xcode_8.3.3) compiler.\n",
      "This means that in case of installing LightGBM from PyPI via the ``pip install lightgbm`` command, you don't need to install the gcc compiler anymore.\n",
      "Instead of that, you need to install the OpenMP library, which is required for running LightGBM on the system with the Apple Clang compiler.\n",
      "You can install the OpenMP library by the following command: ``brew install libomp``.\n",
      "  \"You can install the OpenMP library by the following command: ``brew install libomp``.\", UserWarning)\n"
     ]
    }
   ],
   "source": [
    "import pandas as pd\n",
    "import numpy as np\n",
    "from sklearn import preprocessing, model_selection, metrics\n",
    "import lightgbm\n",
    "\n",
    "from scipy.stats import hmean\n",
    "import matplotlib.pyplot as plt"
   ]
  },
  {
   "cell_type": "code",
   "execution_count": 2,
   "metadata": {},
   "outputs": [],
   "source": [
    "df = pd.read_csv(\"/Users/aakashkerawat/Downloads/amexpert/train.csv\")"
   ]
  },
  {
   "cell_type": "code",
   "execution_count": 3,
   "metadata": {},
   "outputs": [],
   "source": [
    "df_t = pd.read_csv(\"/Users/aakashkerawat/Downloads/amexpert/test_QyjYwdj.csv\")"
   ]
  },
  {
   "cell_type": "code",
   "execution_count": 4,
   "metadata": {},
   "outputs": [],
   "source": [
    "df_c = pd.read_csv(\"/Users/aakashkerawat/Downloads/amexpert/campaign_data.csv\")"
   ]
  },
  {
   "cell_type": "code",
   "execution_count": 5,
   "metadata": {},
   "outputs": [],
   "source": [
    "df_ct = pd.read_csv(\"/Users/aakashkerawat/Downloads/amexpert/customer_transaction_data.csv\")"
   ]
  },
  {
   "cell_type": "code",
   "execution_count": 6,
   "metadata": {},
   "outputs": [],
   "source": [
    "df_cd = pd.read_csv(\"/Users/aakashkerawat/Downloads/amexpert/customer_demographics.csv\")"
   ]
  },
  {
   "cell_type": "code",
   "execution_count": 7,
   "metadata": {},
   "outputs": [],
   "source": [
    "df_cop = pd.read_csv(\"/Users/aakashkerawat/Downloads/amexpert/coupon_item_mapping.csv\")"
   ]
  },
  {
   "cell_type": "code",
   "execution_count": 8,
   "metadata": {},
   "outputs": [],
   "source": [
    "df_item = pd.read_csv(\"/Users/aakashkerawat/Downloads/amexpert/item_data.csv\")"
   ]
  },
  {
   "cell_type": "markdown",
   "metadata": {},
   "source": [
    "### creating train-test"
   ]
  },
  {
   "cell_type": "markdown",
   "metadata": {},
   "source": [
    "### feature engineering"
   ]
  },
  {
   "cell_type": "code",
   "execution_count": 9,
   "metadata": {},
   "outputs": [],
   "source": [
    "df_c[\"start_date\"] = pd.to_datetime(df_c[\"start_date\"], dayfirst=True)\n",
    "df_c[\"end_date\"] = pd.to_datetime(df_c[\"end_date\"], dayfirst=True)"
   ]
  },
  {
   "cell_type": "code",
   "execution_count": 10,
   "metadata": {
    "scrolled": true
   },
   "outputs": [],
   "source": [
    "df_c = df_c.sort_values([\"start_date\", \"end_date\"]).reset_index(drop=True)"
   ]
  },
  {
   "cell_type": "code",
   "execution_count": 11,
   "metadata": {},
   "outputs": [],
   "source": [
    "te_campaigns = pd.Series(index= df_t.campaign_id.unique(), data=[0]*df_t.campaign_id.nunique())\n",
    "tr_campaigns = pd.Series(index= df.campaign_id.unique(), data=[1]*df.campaign_id.nunique())"
   ]
  },
  {
   "cell_type": "code",
   "execution_count": 12,
   "metadata": {},
   "outputs": [],
   "source": [
    "df_c[\"train_campaign\"] = df_c[\"campaign_id\"].map(tr_campaigns).fillna(0)"
   ]
  },
  {
   "cell_type": "code",
   "execution_count": 13,
   "metadata": {},
   "outputs": [],
   "source": [
    "tr_campaign_list = df_c.loc[df_c[\"train_campaign\"]==1][\"campaign_id\"].values[:14]\n",
    "te_campaign_list = df_c.loc[df_c[\"train_campaign\"]==1][\"campaign_id\"].values[14:]"
   ]
  },
  {
   "cell_type": "code",
   "execution_count": 14,
   "metadata": {},
   "outputs": [],
   "source": [
    "df_ltr = df.loc[df[\"campaign_id\"].isin(tr_campaign_list)].reset_index(drop=True)"
   ]
  },
  {
   "cell_type": "code",
   "execution_count": 15,
   "metadata": {},
   "outputs": [],
   "source": [
    "df_lte = df.loc[df[\"campaign_id\"].isin(te_campaign_list)].reset_index(drop=True)"
   ]
  },
  {
   "cell_type": "code",
   "execution_count": 16,
   "metadata": {},
   "outputs": [],
   "source": [
    "ltr_campaigns = pd.Series(index= df_ltr.campaign_id.unique(), data=[1]*df_ltr.campaign_id.nunique())\n",
    "lte_campaigns = pd.Series(index= df_lte.campaign_id.unique(), data=[0]*df_lte.campaign_id.nunique())"
   ]
  },
  {
   "cell_type": "code",
   "execution_count": 17,
   "metadata": {},
   "outputs": [],
   "source": [
    "df_c[\"local_train_campaign\"] = df_c[\"campaign_id\"].map(ltr_campaigns).fillna(0)"
   ]
  },
  {
   "cell_type": "code",
   "execution_count": 18,
   "metadata": {
    "scrolled": true
   },
   "outputs": [
    {
     "data": {
      "text/plain": [
       "(48708, 5)"
      ]
     },
     "execution_count": 18,
     "metadata": {},
     "output_type": "execute_result"
    }
   ],
   "source": [
    "df_ltr.shape"
   ]
  },
  {
   "cell_type": "code",
   "execution_count": 19,
   "metadata": {},
   "outputs": [
    {
     "data": {
      "text/plain": [
       "(29661, 5)"
      ]
     },
     "execution_count": 19,
     "metadata": {},
     "output_type": "execute_result"
    }
   ],
   "source": [
    "df_lte.shape"
   ]
  },
  {
   "cell_type": "code",
   "execution_count": 20,
   "metadata": {},
   "outputs": [],
   "source": [
    "ltr_campaign_last_date = df_c.loc[df_c[\"local_train_campaign\"]==1][\"end_date\"].max()"
   ]
  },
  {
   "cell_type": "code",
   "execution_count": 21,
   "metadata": {},
   "outputs": [],
   "source": [
    "del df_c[\"train_campaign\"]\n",
    "del df_c[\"local_train_campaign\"]"
   ]
  },
  {
   "cell_type": "markdown",
   "metadata": {},
   "source": [
    "#### campaign data"
   ]
  },
  {
   "cell_type": "code",
   "execution_count": 22,
   "metadata": {},
   "outputs": [],
   "source": [
    "df_c[\"campaign_running_days\"] = (df_c[\"end_date\"]-df_c[\"start_date\"]).dt.days"
   ]
  },
  {
   "cell_type": "code",
   "execution_count": 23,
   "metadata": {},
   "outputs": [],
   "source": [
    "df = df.merge(df_c, \"left\", [\"campaign_id\"])\n",
    "\n",
    "df_t = df_t.merge(df_c, \"left\", [\"campaign_id\"])"
   ]
  },
  {
   "cell_type": "code",
   "execution_count": 24,
   "metadata": {},
   "outputs": [],
   "source": [
    "df_ltr = df_ltr.merge(df_c, \"left\", [\"campaign_id\"])\n",
    "\n",
    "df_lte = df_lte.merge(df_c, \"left\", [\"campaign_id\"])"
   ]
  },
  {
   "cell_type": "markdown",
   "metadata": {},
   "source": [
    "#### customer demographics data"
   ]
  },
  {
   "cell_type": "code",
   "execution_count": 25,
   "metadata": {},
   "outputs": [],
   "source": [
    "df = df.merge(df_cd, \"left\", [\"customer_id\"])\n",
    "\n",
    "df_t = df_t.merge(df_cd, \"left\", [\"customer_id\"])"
   ]
  },
  {
   "cell_type": "code",
   "execution_count": 26,
   "metadata": {},
   "outputs": [],
   "source": [
    "df_ltr = df_ltr.merge(df_cd, \"left\", [\"customer_id\"])\n",
    "\n",
    "df_lte = df_lte.merge(df_cd, \"left\", [\"customer_id\"])"
   ]
  },
  {
   "cell_type": "markdown",
   "metadata": {},
   "source": [
    "#### coupon item data"
   ]
  },
  {
   "cell_type": "code",
   "execution_count": 27,
   "metadata": {},
   "outputs": [],
   "source": [
    "df[\"coupon_item_count\"] = df[\"coupon_id\"].map(df_cop.coupon_id.value_counts())\n",
    "\n",
    "df_t[\"coupon_item_count\"] = df_t[\"coupon_id\"].map(df_cop.coupon_id.value_counts())"
   ]
  },
  {
   "cell_type": "code",
   "execution_count": 28,
   "metadata": {},
   "outputs": [],
   "source": [
    "df_ltr[\"coupon_item_count\"] = df_ltr[\"coupon_id\"].map(df_cop.coupon_id.value_counts())\n",
    "\n",
    "df_lte[\"coupon_item_count\"] = df_lte[\"coupon_id\"].map(df_cop.coupon_id.value_counts())"
   ]
  },
  {
   "cell_type": "markdown",
   "metadata": {},
   "source": [
    "#### customer txn"
   ]
  },
  {
   "cell_type": "code",
   "execution_count": 29,
   "metadata": {},
   "outputs": [],
   "source": [
    "gkf = model_selection.GroupKFold(5)"
   ]
  },
  {
   "cell_type": "code",
   "execution_count": 30,
   "metadata": {},
   "outputs": [],
   "source": [
    "# for train_i, cv_i in gkf.split(df_ltr.index, df_ltr[\"redemption_status\"], df_ltr[\"id\"]):\n",
    "#     df_tr = df_ltr.loc[train_i]\n",
    "    \n",
    "#     te_mean = df_tr.groupby(\"customer_id\")[\"redemption_status\"].mean()\n",
    "#     df_ltr.loc[cv_i, \"te_customer_id\"] = df_ltr.loc[cv_i][\"customer_id\"].map(te_mean)"
   ]
  },
  {
   "cell_type": "code",
   "execution_count": 31,
   "metadata": {},
   "outputs": [],
   "source": [
    "# for train_i, cv_i in gkf.split(df.index, df[\"redemption_status\"], df[\"id\"]):\n",
    "#     df_tr = df.loc[train_i]\n",
    "    \n",
    "#     te_mean = df_tr.groupby(\"customer_id\")[\"redemption_status\"].mean()\n",
    "#     df.loc[cv_i, \"te_customer_id\"] = df.loc[cv_i][\"customer_id\"].map(te_mean)"
   ]
  },
  {
   "cell_type": "code",
   "execution_count": 32,
   "metadata": {},
   "outputs": [],
   "source": [
    "# df_lte[\"te_customer_id\"] = df_lte[\"customer_id\"].map(df_ltr.groupby(\"customer_id\")[\"redemption_status\"].mean())"
   ]
  },
  {
   "cell_type": "code",
   "execution_count": 33,
   "metadata": {},
   "outputs": [],
   "source": [
    "# df_t[\"te_customer_id\"] = df_t[\"customer_id\"].map(df.groupby(\"customer_id\")[\"redemption_status\"].mean())"
   ]
  },
  {
   "cell_type": "code",
   "execution_count": null,
   "metadata": {},
   "outputs": [],
   "source": []
  },
  {
   "cell_type": "code",
   "execution_count": 34,
   "metadata": {},
   "outputs": [
    {
     "data": {
      "text/plain": [
       "(48708, 16)"
      ]
     },
     "execution_count": 34,
     "metadata": {},
     "output_type": "execute_result"
    }
   ],
   "source": [
    "df_ltr.shape"
   ]
  },
  {
   "cell_type": "markdown",
   "metadata": {},
   "source": [
    "### Customer coupon level model big"
   ]
  },
  {
   "cell_type": "code",
   "execution_count": 35,
   "metadata": {},
   "outputs": [
    {
     "data": {
      "text/plain": [
       "(1324566, 7)"
      ]
     },
     "execution_count": 35,
     "metadata": {},
     "output_type": "execute_result"
    }
   ],
   "source": [
    "df_ct.shape"
   ]
  },
  {
   "cell_type": "code",
   "execution_count": 36,
   "metadata": {},
   "outputs": [],
   "source": [
    "df_ct = df_ct.merge(df_cop, \"left\", \"item_id\")"
   ]
  },
  {
   "cell_type": "code",
   "execution_count": 37,
   "metadata": {},
   "outputs": [],
   "source": [
    "df_ct[\"date\"] = pd.to_datetime(df_ct[\"date\"], yearfirst=True)"
   ]
  },
  {
   "cell_type": "code",
   "execution_count": 38,
   "metadata": {},
   "outputs": [],
   "source": [
    "df_ct = df_ct.sort_values([\"customer_id\", \"coupon_id\", \"date\"]).reset_index(drop=True)"
   ]
  },
  {
   "cell_type": "code",
   "execution_count": 39,
   "metadata": {},
   "outputs": [],
   "source": [
    "df_ct[\"prev_date_diff\"] = df_ct.groupby(\"customer_id\")[\"date\"].apply(lambda x: (x-x.shift()).dt.days)"
   ]
  },
  {
   "cell_type": "code",
   "execution_count": 40,
   "metadata": {},
   "outputs": [],
   "source": [
    "df_ct[\"min_date\"] = df_ct[\"customer_id\"].map(df_ct.groupby(\"customer_id\")[\"date\"].min())"
   ]
  },
  {
   "cell_type": "code",
   "execution_count": 41,
   "metadata": {},
   "outputs": [],
   "source": [
    "df_ct[\"days_since_first\"] = (df_ct[\"date\"]-df_ct[\"min_date\"]).dt.days"
   ]
  },
  {
   "cell_type": "code",
   "execution_count": 42,
   "metadata": {},
   "outputs": [],
   "source": [
    "df_ct[\"net_price\"] = df_ct[\"selling_price\"]+df_ct[\"coupon_discount\"]+df_ct[\"other_discount\"]"
   ]
  },
  {
   "cell_type": "code",
   "execution_count": 43,
   "metadata": {},
   "outputs": [],
   "source": [
    "df_ct[\"cpn_net_price\"] = df_ct[\"selling_price\"]+df_ct[\"coupon_discount\"]"
   ]
  },
  {
   "cell_type": "code",
   "execution_count": 44,
   "metadata": {},
   "outputs": [],
   "source": [
    "df_ct[\"ratio_cpn_net_price\"] = (df_ct[\"cpn_net_price\"]/df_ct[\"net_price\"]).replace(np.inf, np.nan)"
   ]
  },
  {
   "cell_type": "code",
   "execution_count": 45,
   "metadata": {},
   "outputs": [
    {
     "data": {
      "text/plain": [
       "(2657495, 14)"
      ]
     },
     "execution_count": 45,
     "metadata": {},
     "output_type": "execute_result"
    }
   ],
   "source": [
    "df_ct.shape"
   ]
  },
  {
   "cell_type": "code",
   "execution_count": 46,
   "metadata": {},
   "outputs": [],
   "source": [
    "df_ct_l = df_ct.loc[df_ct[\"date\"]<ltr_campaign_last_date].reset_index(drop=True)"
   ]
  },
  {
   "cell_type": "code",
   "execution_count": 47,
   "metadata": {},
   "outputs": [],
   "source": [
    "# df_ct_ltr = df_ct.loc[df_ct[\"date\"]>df_c.loc[df_c[\"campaign_id\"]==30][\"start_date\"].values[0]].reset_index(drop=True)\n",
    "\n",
    "# df_ct_ctr = df_ct.loc[df_ct[\"date\"]<df_c.loc[df_c[\"campaign_id\"]==7][\"end_date\"].values[0]].reset_index(drop=True)"
   ]
  },
  {
   "cell_type": "code",
   "execution_count": null,
   "metadata": {},
   "outputs": [],
   "source": []
  },
  {
   "cell_type": "code",
   "execution_count": null,
   "metadata": {},
   "outputs": [],
   "source": []
  },
  {
   "cell_type": "code",
   "execution_count": 48,
   "metadata": {},
   "outputs": [],
   "source": [
    "df_ltr = df_ltr.merge(df_ct_l, \"left\", [\"customer_id\", \"coupon_id\"])\n",
    "\n",
    "df_lte = df_lte.merge(df_ct_l, \"left\", [\"customer_id\", \"coupon_id\"])"
   ]
  },
  {
   "cell_type": "code",
   "execution_count": 49,
   "metadata": {},
   "outputs": [],
   "source": [
    "df = df.merge(df_ct, \"left\", [\"customer_id\", \"coupon_id\"])\n",
    "\n",
    "df_t = df_t.merge(df_ct, \"left\", [\"customer_id\", \"coupon_id\"])"
   ]
  },
  {
   "cell_type": "code",
   "execution_count": null,
   "metadata": {},
   "outputs": [],
   "source": []
  },
  {
   "cell_type": "code",
   "execution_count": 50,
   "metadata": {},
   "outputs": [],
   "source": [
    "df_ltr[\"te_customer_id\"] = df_ltr.groupby(\"customer_id\")[\"redemption_status\"].apply(lambda x: x.expanding().mean().shift())\n",
    "\n",
    "df_lte[\"te_customer_id\"] = df_lte[\"customer_id\"].map(df_ltr.groupby(\"customer_id\")[\"redemption_status\"].mean())"
   ]
  },
  {
   "cell_type": "code",
   "execution_count": 51,
   "metadata": {},
   "outputs": [],
   "source": [
    "df[\"te_customer_id\"] = df.groupby(\"customer_id\")[\"redemption_status\"].apply(lambda x: x.expanding().mean().shift())\n",
    "\n",
    "df_t[\"te_customer_id\"] = df_t[\"customer_id\"].map(df.groupby(\"customer_id\")[\"redemption_status\"].mean())"
   ]
  },
  {
   "cell_type": "code",
   "execution_count": 52,
   "metadata": {},
   "outputs": [],
   "source": [
    "df_ltr[\"te_coupon_id\"] = df_ltr.groupby(\"coupon_id\")[\"redemption_status\"].apply(lambda x: x.expanding().mean().shift())\n",
    "\n",
    "df_lte[\"te_coupon_id\"] = df_lte[\"coupon_id\"].map(df_ltr.groupby(\"coupon_id\")[\"redemption_status\"].mean())"
   ]
  },
  {
   "cell_type": "code",
   "execution_count": 53,
   "metadata": {},
   "outputs": [],
   "source": [
    "df[\"te_coupon_id\"] = df.groupby(\"coupon_id\")[\"redemption_status\"].apply(lambda x: x.expanding().mean().shift())\n",
    "\n",
    "df_t[\"te_coupon_id\"] = df_t[\"coupon_id\"].map(df.groupby(\"coupon_id\")[\"redemption_status\"].mean())"
   ]
  },
  {
   "cell_type": "code",
   "execution_count": null,
   "metadata": {},
   "outputs": [],
   "source": []
  },
  {
   "cell_type": "code",
   "execution_count": null,
   "metadata": {},
   "outputs": [],
   "source": []
  },
  {
   "cell_type": "code",
   "execution_count": 54,
   "metadata": {
    "scrolled": true
   },
   "outputs": [],
   "source": [
    "df_ltr[\"redeem_after\"] = (df_ltr[\"date\"]-df_ltr[\"start_date\"]).dt.days\n",
    "# df_ltr[\"redeem_before\"] = (df_ltr[\"end_date\"]-df_ltr[\"date\"]).dt.days"
   ]
  },
  {
   "cell_type": "code",
   "execution_count": 55,
   "metadata": {},
   "outputs": [],
   "source": [
    "df_lte[\"redeem_after\"] = (df_lte[\"date\"]-df_lte[\"start_date\"]).dt.days\n",
    "# df_lte[\"redeem_before\"] = (df_lte[\"end_date\"]-df_lte[\"date\"]).dt.days"
   ]
  },
  {
   "cell_type": "code",
   "execution_count": 56,
   "metadata": {},
   "outputs": [],
   "source": [
    "df[\"redeem_after\"] = (df[\"date\"]-df[\"start_date\"]).dt.days\n",
    "# df[\"redeem_before\"] = (df[\"end_date\"]-df[\"date\"]).dt.days"
   ]
  },
  {
   "cell_type": "code",
   "execution_count": 57,
   "metadata": {},
   "outputs": [],
   "source": [
    "df_t[\"redeem_after\"] = (df_t[\"date\"]-df_t[\"start_date\"]).dt.days\n",
    "# df_t[\"redeem_before\"] = (df_t[\"end_date\"]-df_t[\"date\"]).dt.days"
   ]
  },
  {
   "cell_type": "code",
   "execution_count": null,
   "metadata": {},
   "outputs": [],
   "source": []
  },
  {
   "cell_type": "code",
   "execution_count": 58,
   "metadata": {},
   "outputs": [],
   "source": [
    "predictors = df_ltr.columns.drop([\"id\", \"redemption_status\", \"date\", \"start_date\", \n",
    "                                  \"end_date\", \"campaign_id\", \"cpn_net_price\", \"age_range\", \"rented\", \"min_date\"\n",
    "                                  , \"days_since_first\", \"income_bracket\"\n",
    "                                  , \"campaign_running_days\", \"te_coupon_id\"])"
   ]
  },
  {
   "cell_type": "code",
   "execution_count": 59,
   "metadata": {
    "scrolled": false
   },
   "outputs": [
    {
     "data": {
      "text/plain": [
       "Index(['coupon_id', 'customer_id', 'campaign_type', 'marital_status',\n",
       "       'family_size', 'no_of_children', 'coupon_item_count', 'item_id',\n",
       "       'quantity', 'selling_price', 'other_discount', 'coupon_discount',\n",
       "       'prev_date_diff', 'net_price', 'ratio_cpn_net_price', 'te_customer_id',\n",
       "       'redeem_after'],\n",
       "      dtype='object')"
      ]
     },
     "execution_count": 59,
     "metadata": {},
     "output_type": "execute_result"
    }
   ],
   "source": [
    "predictors"
   ]
  },
  {
   "cell_type": "code",
   "execution_count": 60,
   "metadata": {
    "scrolled": true
   },
   "outputs": [
    {
     "data": {
      "text/plain": [
       "17"
      ]
     },
     "execution_count": 60,
     "metadata": {},
     "output_type": "execute_result"
    }
   ],
   "source": [
    "len(predictors)"
   ]
  },
  {
   "cell_type": "code",
   "execution_count": 61,
   "metadata": {
    "scrolled": true
   },
   "outputs": [
    {
     "name": "stdout",
     "output_type": "stream",
     "text": [
      "campaign_type\n",
      "marital_status\n",
      "family_size\n",
      "no_of_children\n"
     ]
    }
   ],
   "source": [
    "for col in predictors:\n",
    "    le = preprocessing.LabelEncoder()\n",
    "    if df_ltr[col].dtype==\"O\":\n",
    "        print(col)\n",
    "        le.fit(pd.concat([df_ltr[col].fillna(\"NA\"), df_lte[col].fillna(\"NA\")]))\n",
    "        df_ltr[col] = le.transform(df_ltr[col].fillna(\"NA\"))\n",
    "#         df_ltr_ltr[col] = le.transform(df_ltr_ltr[col].fillna(\"NA\"))\n",
    "#         df_ltr_lcv[col] = le.transform(df_ltr_lcv[col].fillna(\"NA\"))\n",
    "        df_lte[col] = le.transform(df_lte[col].fillna(\"NA\"))"
   ]
  },
  {
   "cell_type": "code",
   "execution_count": 62,
   "metadata": {
    "scrolled": true
   },
   "outputs": [
    {
     "name": "stdout",
     "output_type": "stream",
     "text": [
      "campaign_type\n",
      "marital_status\n",
      "family_size\n",
      "no_of_children\n"
     ]
    }
   ],
   "source": [
    "for col in predictors:\n",
    "    le = preprocessing.LabelEncoder()\n",
    "    if df[col].dtype==\"O\":\n",
    "        print(col)\n",
    "        le.fit(pd.concat([df[col].fillna(\"NA\"), df_t[col].fillna(\"NA\")]))\n",
    "        df[col] = le.transform(df[col].fillna(\"NA\"))\n",
    "#         df_ltr[col] = le.transform(df_ltr[col].fillna(\"NA\"))\n",
    "#         df_lcv[col] = le.transform(df_lcv[col].fillna(\"NA\"))\n",
    "        df_t[col] = le.transform(df_t[col].fillna(\"NA\"))"
   ]
  },
  {
   "cell_type": "code",
   "execution_count": 63,
   "metadata": {},
   "outputs": [],
   "source": [
    "lgb = lightgbm.LGBMClassifier(n_estimators=800, max_depth=3, learning_rate=0.005, colsample_bytree=0.2, random_state=2019)"
   ]
  },
  {
   "cell_type": "code",
   "execution_count": 64,
   "metadata": {},
   "outputs": [],
   "source": [
    "df_ltr = df_ltr.sort_values([\"id\", \"date\"])"
   ]
  },
  {
   "cell_type": "code",
   "execution_count": 65,
   "metadata": {},
   "outputs": [],
   "source": [
    "df_ltr_s = df_ltr.drop_duplicates(subset=[\"id\"], keep=\"first\")"
   ]
  },
  {
   "cell_type": "code",
   "execution_count": 66,
   "metadata": {
    "scrolled": true
   },
   "outputs": [
    {
     "data": {
      "text/plain": [
       "(48708, 31)"
      ]
     },
     "execution_count": 66,
     "metadata": {},
     "output_type": "execute_result"
    }
   ],
   "source": [
    "df_ltr_s.shape"
   ]
  },
  {
   "cell_type": "code",
   "execution_count": 67,
   "metadata": {
    "scrolled": true
   },
   "outputs": [
    {
     "data": {
      "text/plain": [
       "0.007349921984068326"
      ]
     },
     "execution_count": 67,
     "metadata": {},
     "output_type": "execute_result"
    }
   ],
   "source": [
    "df_ltr_s[\"redemption_status\"].mean()"
   ]
  },
  {
   "cell_type": "code",
   "execution_count": 68,
   "metadata": {},
   "outputs": [],
   "source": [
    "df_ltr_s = pd.concat([df_ltr_s, df_ltr_s.loc[(df_ltr_s[\"redemption_status\"]==1)].sample(20000, replace=True, random_state=2019)]).reset_index(drop=True)"
   ]
  },
  {
   "cell_type": "code",
   "execution_count": 69,
   "metadata": {
    "scrolled": false
   },
   "outputs": [
    {
     "data": {
      "text/plain": [
       "0.29629737439599463"
      ]
     },
     "execution_count": 69,
     "metadata": {},
     "output_type": "execute_result"
    }
   ],
   "source": [
    "df_ltr_s.redemption_status.mean()"
   ]
  },
  {
   "cell_type": "code",
   "execution_count": 70,
   "metadata": {
    "scrolled": false
   },
   "outputs": [
    {
     "data": {
      "text/plain": [
       "LGBMClassifier(boosting_type='gbdt', class_weight=None, colsample_bytree=0.2,\n",
       "        importance_type='split', learning_rate=0.005, max_depth=3,\n",
       "        min_child_samples=20, min_child_weight=0.001, min_split_gain=0.0,\n",
       "        n_estimators=800, n_jobs=-1, num_leaves=31, objective=None,\n",
       "        random_state=2019, reg_alpha=0.0, reg_lambda=0.0, silent=True,\n",
       "        subsample=1.0, subsample_for_bin=200000, subsample_freq=0)"
      ]
     },
     "execution_count": 70,
     "metadata": {},
     "output_type": "execute_result"
    }
   ],
   "source": [
    "lgb.fit(df_ltr_s[predictors], df_ltr_s[\"redemption_status\"])"
   ]
  },
  {
   "cell_type": "code",
   "execution_count": 71,
   "metadata": {},
   "outputs": [],
   "source": [
    "preds_ltr_s = lgb.predict_proba(df_ltr_s[predictors])[:,1]"
   ]
  },
  {
   "cell_type": "code",
   "execution_count": 72,
   "metadata": {
    "scrolled": true
   },
   "outputs": [],
   "source": [
    "preds_lte = lgb.predict_proba(df_lte[predictors])[:,1]\n",
    "\n",
    "df_preds_lte = pd.DataFrame({\"id\": df_lte[\"id\"].values, \"preds\": preds_lte})"
   ]
  },
  {
   "cell_type": "code",
   "execution_count": 73,
   "metadata": {},
   "outputs": [],
   "source": [
    "df_lte_agg = df_lte.drop_duplicates(subset=[\"id\"])[[\"id\", \"redemption_status\"]]\n",
    "\n",
    "df_lte_agg[\"preds\"] = df_lte_agg[\"id\"].map(df_preds_lte.groupby(\"id\")[\"preds\"].max())"
   ]
  },
  {
   "cell_type": "code",
   "execution_count": 74,
   "metadata": {
    "scrolled": false
   },
   "outputs": [
    {
     "data": {
      "text/plain": [
       "0.9879751598405094"
      ]
     },
     "execution_count": 74,
     "metadata": {},
     "output_type": "execute_result"
    }
   ],
   "source": [
    "metrics.roc_auc_score(df_ltr_s[\"redemption_status\"], preds_ltr_s)"
   ]
  },
  {
   "cell_type": "code",
   "execution_count": 75,
   "metadata": {
    "scrolled": false
   },
   "outputs": [
    {
     "data": {
      "text/plain": [
       "0.9362754553176296"
      ]
     },
     "execution_count": 75,
     "metadata": {},
     "output_type": "execute_result"
    }
   ],
   "source": [
    "metrics.roc_auc_score(df_lte_agg[\"redemption_status\"], df_lte_agg[\"preds\"])"
   ]
  },
  {
   "cell_type": "code",
   "execution_count": 76,
   "metadata": {
    "scrolled": true
   },
   "outputs": [
    {
     "data": {
      "text/plain": [
       "<matplotlib.axes._subplots.AxesSubplot at 0x1a10aef7d0>"
      ]
     },
     "execution_count": 76,
     "metadata": {},
     "output_type": "execute_result"
    },
    {
     "data": {
      "image/png": "[encoded data removed]",
      "text/plain": [
       "<Figure size 432x288 with 1 Axes>"
      ]
     },
     "metadata": {
      "needs_background": "light"
     },
     "output_type": "display_data"
    }
   ],
   "source": [
    "lightgbm.plot_importance(lgb, importance_type=\"gain\")"
   ]
  },
  {
   "cell_type": "code",
   "execution_count": 77,
   "metadata": {},
   "outputs": [],
   "source": [
    "df = df.sort_values([\"id\", \"date\"])"
   ]
  },
  {
   "cell_type": "code",
   "execution_count": 78,
   "metadata": {},
   "outputs": [],
   "source": [
    "df_s = df.drop_duplicates(subset=[\"id\"], keep=\"first\").reset_index(drop=True)"
   ]
  },
  {
   "cell_type": "code",
   "execution_count": 79,
   "metadata": {},
   "outputs": [
    {
     "data": {
      "text/plain": [
       "0.00930214753282548"
      ]
     },
     "execution_count": 79,
     "metadata": {},
     "output_type": "execute_result"
    }
   ],
   "source": [
    "df_s.redemption_status.mean()"
   ]
  },
  {
   "cell_type": "code",
   "execution_count": 80,
   "metadata": {},
   "outputs": [],
   "source": [
    "df_s = pd.concat([df_s, df_s.loc[(df_s[\"redemption_status\"]==1)].sample(32000, replace=True, random_state=2019)]).reset_index(drop=True)"
   ]
  },
  {
   "cell_type": "code",
   "execution_count": 81,
   "metadata": {
    "scrolled": true
   },
   "outputs": [
    {
     "data": {
      "text/plain": [
       "0.29654160135545304"
      ]
     },
     "execution_count": 81,
     "metadata": {},
     "output_type": "execute_result"
    }
   ],
   "source": [
    "df_s.redemption_status.mean()"
   ]
  },
  {
   "cell_type": "code",
   "execution_count": 82,
   "metadata": {
    "scrolled": true
   },
   "outputs": [
    {
     "name": "stdout",
     "output_type": "stream",
     "text": [
      "1000\n",
      "1001\n",
      "1002\n",
      "1003\n",
      "1004\n",
      "1005\n",
      "1006\n",
      "1007\n",
      "1008\n",
      "1009\n",
      "1010\n",
      "1011\n",
      "1012\n",
      "1013\n",
      "1014\n"
     ]
    }
   ],
   "source": [
    "df_preds_2 = pd.DataFrame(index=df_t.index)\n",
    "for seed in range(1000, 1015):\n",
    "    print(seed)\n",
    "    lgb.random_state = seed\n",
    "    lgb.fit(df_s[predictors], df_s[\"redemption_status\"])\n",
    "    df_preds_2[\"lgb_{}\".format(seed)] = lgb.predict_proba(df_t[predictors])[:,1]"
   ]
  },
  {
   "cell_type": "code",
   "execution_count": 83,
   "metadata": {},
   "outputs": [],
   "source": [
    "preds_mean_2 = hmean(df_preds_2, 1)"
   ]
  },
  {
   "cell_type": "code",
   "execution_count": 84,
   "metadata": {},
   "outputs": [],
   "source": [
    "df_preds_2f = pd.DataFrame({\"id\":df_t[\"id\"].values, \"redemption_status\":preds_mean_2})"
   ]
  },
  {
   "cell_type": "code",
   "execution_count": 85,
   "metadata": {},
   "outputs": [],
   "source": [
    "sub2 = df_preds_2f.groupby(\"id\")[\"redemption_status\"].max().reset_index()"
   ]
  },
  {
   "cell_type": "code",
   "execution_count": 86,
   "metadata": {},
   "outputs": [],
   "source": [
    "sub2.to_csv(\"/Users/aakashkerawat/Downloads/amexpert/submissions/subn_45.csv\", index=False)"
   ]
  }
 ],
 "metadata": {
  "kernelspec": {
   "display_name": "Python 3",
   "language": "python",
   "name": "python3"
  },
  "language_info": {
   "codemirror_mode": {
    "name": "ipython",
    "version": 3
   },
   "file_extension": ".py",
   "mimetype": "text/x-python",
   "name": "python",
   "nbconvert_exporter": "python",
   "pygments_lexer": "ipython3",
   "version": "3.7.4"
  }
 },
 "nbformat": 4,
 "nbformat_minor": 2
}
